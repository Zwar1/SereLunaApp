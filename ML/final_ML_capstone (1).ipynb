{
  "nbformat": 4,
  "nbformat_minor": 0,
  "metadata": {
    "colab": {
      "provenance": []
    },
    "kernelspec": {
      "name": "python3",
      "display_name": "Python 3"
    },
    "language_info": {
      "name": "python"
    },
    "widgets": {
      "application/vnd.jupyter.widget-state+json": {
        "31dbd76a5c1642ca81bddfae1d353aac": {
          "model_module": "@jupyter-widgets/controls",
          "model_name": "TextareaModel",
          "model_module_version": "1.5.0",
          "state": {
            "_dom_classes": [],
            "_model_module": "@jupyter-widgets/controls",
            "_model_module_version": "1.5.0",
            "_model_name": "TextareaModel",
            "_view_count": null,
            "_view_module": "@jupyter-widgets/controls",
            "_view_module_version": "1.5.0",
            "_view_name": "TextareaView",
            "continuous_update": true,
            "description": "Input:",
            "description_tooltip": null,
            "disabled": false,
            "layout": "IPY_MODEL_ae7f409dd972495fae4460ccc1a8f756",
            "placeholder": "Masukkan teks di sini...",
            "rows": null,
            "style": "IPY_MODEL_00f567694c8b4dfba1fd7ebe12740392",
            "value": "hari ini pekerjaan kantor saya selesai semua"
          }
        },
        "ae7f409dd972495fae4460ccc1a8f756": {
          "model_module": "@jupyter-widgets/base",
          "model_name": "LayoutModel",
          "model_module_version": "1.2.0",
          "state": {
            "_model_module": "@jupyter-widgets/base",
            "_model_module_version": "1.2.0",
            "_model_name": "LayoutModel",
            "_view_count": null,
            "_view_module": "@jupyter-widgets/base",
            "_view_module_version": "1.2.0",
            "_view_name": "LayoutView",
            "align_content": null,
            "align_items": null,
            "align_self": null,
            "border": null,
            "bottom": null,
            "display": null,
            "flex": null,
            "flex_flow": null,
            "grid_area": null,
            "grid_auto_columns": null,
            "grid_auto_flow": null,
            "grid_auto_rows": null,
            "grid_column": null,
            "grid_gap": null,
            "grid_row": null,
            "grid_template_areas": null,
            "grid_template_columns": null,
            "grid_template_rows": null,
            "height": null,
            "justify_content": null,
            "justify_items": null,
            "left": null,
            "margin": null,
            "max_height": null,
            "max_width": null,
            "min_height": null,
            "min_width": null,
            "object_fit": null,
            "object_position": null,
            "order": null,
            "overflow": null,
            "overflow_x": null,
            "overflow_y": null,
            "padding": null,
            "right": null,
            "top": null,
            "visibility": null,
            "width": null
          }
        },
        "00f567694c8b4dfba1fd7ebe12740392": {
          "model_module": "@jupyter-widgets/controls",
          "model_name": "DescriptionStyleModel",
          "model_module_version": "1.5.0",
          "state": {
            "_model_module": "@jupyter-widgets/controls",
            "_model_module_version": "1.5.0",
            "_model_name": "DescriptionStyleModel",
            "_view_count": null,
            "_view_module": "@jupyter-widgets/base",
            "_view_module_version": "1.2.0",
            "_view_name": "StyleView",
            "description_width": ""
          }
        },
        "01a94cf3b25e434d9f0b0fb1593e32c1": {
          "model_module": "@jupyter-widgets/controls",
          "model_name": "ButtonModel",
          "model_module_version": "1.5.0",
          "state": {
            "_dom_classes": [],
            "_model_module": "@jupyter-widgets/controls",
            "_model_module_version": "1.5.0",
            "_model_name": "ButtonModel",
            "_view_count": null,
            "_view_module": "@jupyter-widgets/controls",
            "_view_module_version": "1.5.0",
            "_view_name": "ButtonView",
            "button_style": "",
            "description": "Prediksi",
            "disabled": false,
            "icon": "",
            "layout": "IPY_MODEL_fffa4600ce2940cfae7d47ed014c9da0",
            "style": "IPY_MODEL_4d75021ca0f64c1ea9cf6a2872150fca",
            "tooltip": ""
          }
        },
        "fffa4600ce2940cfae7d47ed014c9da0": {
          "model_module": "@jupyter-widgets/base",
          "model_name": "LayoutModel",
          "model_module_version": "1.2.0",
          "state": {
            "_model_module": "@jupyter-widgets/base",
            "_model_module_version": "1.2.0",
            "_model_name": "LayoutModel",
            "_view_count": null,
            "_view_module": "@jupyter-widgets/base",
            "_view_module_version": "1.2.0",
            "_view_name": "LayoutView",
            "align_content": null,
            "align_items": null,
            "align_self": null,
            "border": null,
            "bottom": null,
            "display": null,
            "flex": null,
            "flex_flow": null,
            "grid_area": null,
            "grid_auto_columns": null,
            "grid_auto_flow": null,
            "grid_auto_rows": null,
            "grid_column": null,
            "grid_gap": null,
            "grid_row": null,
            "grid_template_areas": null,
            "grid_template_columns": null,
            "grid_template_rows": null,
            "height": null,
            "justify_content": null,
            "justify_items": null,
            "left": null,
            "margin": null,
            "max_height": null,
            "max_width": null,
            "min_height": null,
            "min_width": null,
            "object_fit": null,
            "object_position": null,
            "order": null,
            "overflow": null,
            "overflow_x": null,
            "overflow_y": null,
            "padding": null,
            "right": null,
            "top": null,
            "visibility": null,
            "width": null
          }
        },
        "4d75021ca0f64c1ea9cf6a2872150fca": {
          "model_module": "@jupyter-widgets/controls",
          "model_name": "ButtonStyleModel",
          "model_module_version": "1.5.0",
          "state": {
            "_model_module": "@jupyter-widgets/controls",
            "_model_module_version": "1.5.0",
            "_model_name": "ButtonStyleModel",
            "_view_count": null,
            "_view_module": "@jupyter-widgets/base",
            "_view_module_version": "1.2.0",
            "_view_name": "StyleView",
            "button_color": null,
            "font_weight": ""
          }
        },
        "f2b40b2dee514bd18857036f2a39b5bd": {
          "model_module": "@jupyter-widgets/output",
          "model_name": "OutputModel",
          "model_module_version": "1.0.0",
          "state": {
            "_dom_classes": [],
            "_model_module": "@jupyter-widgets/output",
            "_model_module_version": "1.0.0",
            "_model_name": "OutputModel",
            "_view_count": null,
            "_view_module": "@jupyter-widgets/output",
            "_view_module_version": "1.0.0",
            "_view_name": "OutputView",
            "layout": "IPY_MODEL_099fcd0db779454c87c560b939abe8af",
            "msg_id": "",
            "outputs": [
              {
                "output_type": "stream",
                "name": "stdout",
                "text": [
                  "\r1/1 [==============================] - ETA: 0s"
                ]
              },
              {
                "output_type": "stream",
                "name": "stdout",
                "text": [
                  "\b\b\b\b\b\b\b\b\b\b\b\b\b\b\b\b\b\b\b\b\b\b\b\b\b\b\b\b\b\b\b\b\b\b\b\b\b\b\b\b\b\b\b\b\b\b\r1/1 [==============================] - 2s 2s/step\n"
                ]
              },
              {
                "output_type": "stream",
                "name": "stdout",
                "text": [
                  "Teks: \"hari ini pekerjaan kantor saya selesai semua\"\n",
                  "Prediksi: Sedih\n"
                ]
              }
            ]
          }
        },
        "099fcd0db779454c87c560b939abe8af": {
          "model_module": "@jupyter-widgets/base",
          "model_name": "LayoutModel",
          "model_module_version": "1.2.0",
          "state": {
            "_model_module": "@jupyter-widgets/base",
            "_model_module_version": "1.2.0",
            "_model_name": "LayoutModel",
            "_view_count": null,
            "_view_module": "@jupyter-widgets/base",
            "_view_module_version": "1.2.0",
            "_view_name": "LayoutView",
            "align_content": null,
            "align_items": null,
            "align_self": null,
            "border": null,
            "bottom": null,
            "display": null,
            "flex": null,
            "flex_flow": null,
            "grid_area": null,
            "grid_auto_columns": null,
            "grid_auto_flow": null,
            "grid_auto_rows": null,
            "grid_column": null,
            "grid_gap": null,
            "grid_row": null,
            "grid_template_areas": null,
            "grid_template_columns": null,
            "grid_template_rows": null,
            "height": null,
            "justify_content": null,
            "justify_items": null,
            "left": null,
            "margin": null,
            "max_height": null,
            "max_width": null,
            "min_height": null,
            "min_width": null,
            "object_fit": null,
            "object_position": null,
            "order": null,
            "overflow": null,
            "overflow_x": null,
            "overflow_y": null,
            "padding": null,
            "right": null,
            "top": null,
            "visibility": null,
            "width": null
          }
        }
      }
    }
  },
  "cells": [
    {
      "cell_type": "markdown",
      "source": [
        "# Feeling Detection using Deep Learning NLP"
      ],
      "metadata": {
        "id": "b2IkUhFHOZ0y"
      }
    },
    {
      "cell_type": "markdown",
      "source": [],
      "metadata": {
        "id": "4Shpoki9OeIm"
      }
    },
    {
      "cell_type": "markdown",
      "source": [
        "### Import Library"
      ],
      "metadata": {
        "id": "qhwkamOAOj--"
      }
    },
    {
      "cell_type": "code",
      "source": [
        "!pip install keras-tuner"
      ],
      "metadata": {
        "colab": {
          "base_uri": "https://localhost:8080/"
        },
        "id": "MDlRXZ4WQkuL",
        "outputId": "8aacd03f-35a6-4262-8ed6-b7c1123bdd81"
      },
      "execution_count": null,
      "outputs": [
        {
          "output_type": "stream",
          "name": "stdout",
          "text": [
            "Collecting keras-tuner\n",
            "  Downloading keras_tuner-1.4.7-py3-none-any.whl (129 kB)\n",
            "\u001b[2K     \u001b[90m━━━━━━━━━━━━━━━━━━━━━━━━━━━━━━━━━━━━━━━━\u001b[0m \u001b[32m129.1/129.1 kB\u001b[0m \u001b[31m2.9 MB/s\u001b[0m eta \u001b[36m0:00:00\u001b[0m\n",
            "\u001b[?25hRequirement already satisfied: keras in /usr/local/lib/python3.10/dist-packages (from keras-tuner) (2.15.0)\n",
            "Requirement already satisfied: packaging in /usr/local/lib/python3.10/dist-packages (from keras-tuner) (24.1)\n",
            "Requirement already satisfied: requests in /usr/local/lib/python3.10/dist-packages (from keras-tuner) (2.31.0)\n",
            "Collecting kt-legacy (from keras-tuner)\n",
            "  Downloading kt_legacy-1.0.5-py3-none-any.whl (9.6 kB)\n",
            "Requirement already satisfied: charset-normalizer<4,>=2 in /usr/local/lib/python3.10/dist-packages (from requests->keras-tuner) (3.3.2)\n",
            "Requirement already satisfied: idna<4,>=2.5 in /usr/local/lib/python3.10/dist-packages (from requests->keras-tuner) (3.7)\n",
            "Requirement already satisfied: urllib3<3,>=1.21.1 in /usr/local/lib/python3.10/dist-packages (from requests->keras-tuner) (2.0.7)\n",
            "Requirement already satisfied: certifi>=2017.4.17 in /usr/local/lib/python3.10/dist-packages (from requests->keras-tuner) (2024.6.2)\n",
            "Installing collected packages: kt-legacy, keras-tuner\n",
            "Successfully installed keras-tuner-1.4.7 kt-legacy-1.0.5\n"
          ]
        }
      ]
    },
    {
      "cell_type": "code",
      "source": [
        "!pip install pandas nltk tensorflow scikit-learn keras-tuner"
      ],
      "metadata": {
        "colab": {
          "base_uri": "https://localhost:8080/"
        },
        "id": "IjW5qI9eQl6Z",
        "outputId": "41a9a941-eb5a-46db-ace4-ebfb09c96354"
      },
      "execution_count": null,
      "outputs": [
        {
          "output_type": "stream",
          "name": "stdout",
          "text": [
            "Requirement already satisfied: pandas in /usr/local/lib/python3.10/dist-packages (2.0.3)\n",
            "Requirement already satisfied: nltk in /usr/local/lib/python3.10/dist-packages (3.8.1)\n",
            "Requirement already satisfied: tensorflow in /usr/local/lib/python3.10/dist-packages (2.15.0)\n",
            "Requirement already satisfied: scikit-learn in /usr/local/lib/python3.10/dist-packages (1.2.2)\n",
            "Requirement already satisfied: keras-tuner in /usr/local/lib/python3.10/dist-packages (1.4.7)\n",
            "Requirement already satisfied: python-dateutil>=2.8.2 in /usr/local/lib/python3.10/dist-packages (from pandas) (2.8.2)\n",
            "Requirement already satisfied: pytz>=2020.1 in /usr/local/lib/python3.10/dist-packages (from pandas) (2023.4)\n",
            "Requirement already satisfied: tzdata>=2022.1 in /usr/local/lib/python3.10/dist-packages (from pandas) (2024.1)\n",
            "Requirement already satisfied: numpy>=1.21.0 in /usr/local/lib/python3.10/dist-packages (from pandas) (1.25.2)\n",
            "Requirement already satisfied: click in /usr/local/lib/python3.10/dist-packages (from nltk) (8.1.7)\n",
            "Requirement already satisfied: joblib in /usr/local/lib/python3.10/dist-packages (from nltk) (1.4.2)\n",
            "Requirement already satisfied: regex>=2021.8.3 in /usr/local/lib/python3.10/dist-packages (from nltk) (2024.5.15)\n",
            "Requirement already satisfied: tqdm in /usr/local/lib/python3.10/dist-packages (from nltk) (4.66.4)\n",
            "Requirement already satisfied: absl-py>=1.0.0 in /usr/local/lib/python3.10/dist-packages (from tensorflow) (1.4.0)\n",
            "Requirement already satisfied: astunparse>=1.6.0 in /usr/local/lib/python3.10/dist-packages (from tensorflow) (1.6.3)\n",
            "Requirement already satisfied: flatbuffers>=23.5.26 in /usr/local/lib/python3.10/dist-packages (from tensorflow) (24.3.25)\n",
            "Requirement already satisfied: gast!=0.5.0,!=0.5.1,!=0.5.2,>=0.2.1 in /usr/local/lib/python3.10/dist-packages (from tensorflow) (0.5.4)\n",
            "Requirement already satisfied: google-pasta>=0.1.1 in /usr/local/lib/python3.10/dist-packages (from tensorflow) (0.2.0)\n",
            "Requirement already satisfied: h5py>=2.9.0 in /usr/local/lib/python3.10/dist-packages (from tensorflow) (3.9.0)\n",
            "Requirement already satisfied: libclang>=13.0.0 in /usr/local/lib/python3.10/dist-packages (from tensorflow) (18.1.1)\n",
            "Requirement already satisfied: ml-dtypes~=0.2.0 in /usr/local/lib/python3.10/dist-packages (from tensorflow) (0.2.0)\n",
            "Requirement already satisfied: opt-einsum>=2.3.2 in /usr/local/lib/python3.10/dist-packages (from tensorflow) (3.3.0)\n",
            "Requirement already satisfied: packaging in /usr/local/lib/python3.10/dist-packages (from tensorflow) (24.1)\n",
            "Requirement already satisfied: protobuf!=4.21.0,!=4.21.1,!=4.21.2,!=4.21.3,!=4.21.4,!=4.21.5,<5.0.0dev,>=3.20.3 in /usr/local/lib/python3.10/dist-packages (from tensorflow) (3.20.3)\n",
            "Requirement already satisfied: setuptools in /usr/local/lib/python3.10/dist-packages (from tensorflow) (67.7.2)\n",
            "Requirement already satisfied: six>=1.12.0 in /usr/local/lib/python3.10/dist-packages (from tensorflow) (1.16.0)\n",
            "Requirement already satisfied: termcolor>=1.1.0 in /usr/local/lib/python3.10/dist-packages (from tensorflow) (2.4.0)\n",
            "Requirement already satisfied: typing-extensions>=3.6.6 in /usr/local/lib/python3.10/dist-packages (from tensorflow) (4.12.2)\n",
            "Requirement already satisfied: wrapt<1.15,>=1.11.0 in /usr/local/lib/python3.10/dist-packages (from tensorflow) (1.14.1)\n",
            "Requirement already satisfied: tensorflow-io-gcs-filesystem>=0.23.1 in /usr/local/lib/python3.10/dist-packages (from tensorflow) (0.37.0)\n",
            "Requirement already satisfied: grpcio<2.0,>=1.24.3 in /usr/local/lib/python3.10/dist-packages (from tensorflow) (1.64.1)\n",
            "Requirement already satisfied: tensorboard<2.16,>=2.15 in /usr/local/lib/python3.10/dist-packages (from tensorflow) (2.15.2)\n",
            "Requirement already satisfied: tensorflow-estimator<2.16,>=2.15.0 in /usr/local/lib/python3.10/dist-packages (from tensorflow) (2.15.0)\n",
            "Requirement already satisfied: keras<2.16,>=2.15.0 in /usr/local/lib/python3.10/dist-packages (from tensorflow) (2.15.0)\n",
            "Requirement already satisfied: scipy>=1.3.2 in /usr/local/lib/python3.10/dist-packages (from scikit-learn) (1.11.4)\n",
            "Requirement already satisfied: threadpoolctl>=2.0.0 in /usr/local/lib/python3.10/dist-packages (from scikit-learn) (3.5.0)\n",
            "Requirement already satisfied: requests in /usr/local/lib/python3.10/dist-packages (from keras-tuner) (2.31.0)\n",
            "Requirement already satisfied: kt-legacy in /usr/local/lib/python3.10/dist-packages (from keras-tuner) (1.0.5)\n",
            "Requirement already satisfied: wheel<1.0,>=0.23.0 in /usr/local/lib/python3.10/dist-packages (from astunparse>=1.6.0->tensorflow) (0.43.0)\n",
            "Requirement already satisfied: google-auth<3,>=1.6.3 in /usr/local/lib/python3.10/dist-packages (from tensorboard<2.16,>=2.15->tensorflow) (2.27.0)\n",
            "Requirement already satisfied: google-auth-oauthlib<2,>=0.5 in /usr/local/lib/python3.10/dist-packages (from tensorboard<2.16,>=2.15->tensorflow) (1.2.0)\n",
            "Requirement already satisfied: markdown>=2.6.8 in /usr/local/lib/python3.10/dist-packages (from tensorboard<2.16,>=2.15->tensorflow) (3.6)\n",
            "Requirement already satisfied: tensorboard-data-server<0.8.0,>=0.7.0 in /usr/local/lib/python3.10/dist-packages (from tensorboard<2.16,>=2.15->tensorflow) (0.7.2)\n",
            "Requirement already satisfied: werkzeug>=1.0.1 in /usr/local/lib/python3.10/dist-packages (from tensorboard<2.16,>=2.15->tensorflow) (3.0.3)\n",
            "Requirement already satisfied: charset-normalizer<4,>=2 in /usr/local/lib/python3.10/dist-packages (from requests->keras-tuner) (3.3.2)\n",
            "Requirement already satisfied: idna<4,>=2.5 in /usr/local/lib/python3.10/dist-packages (from requests->keras-tuner) (3.7)\n",
            "Requirement already satisfied: urllib3<3,>=1.21.1 in /usr/local/lib/python3.10/dist-packages (from requests->keras-tuner) (2.0.7)\n",
            "Requirement already satisfied: certifi>=2017.4.17 in /usr/local/lib/python3.10/dist-packages (from requests->keras-tuner) (2024.6.2)\n",
            "Requirement already satisfied: cachetools<6.0,>=2.0.0 in /usr/local/lib/python3.10/dist-packages (from google-auth<3,>=1.6.3->tensorboard<2.16,>=2.15->tensorflow) (5.3.3)\n",
            "Requirement already satisfied: pyasn1-modules>=0.2.1 in /usr/local/lib/python3.10/dist-packages (from google-auth<3,>=1.6.3->tensorboard<2.16,>=2.15->tensorflow) (0.4.0)\n",
            "Requirement already satisfied: rsa<5,>=3.1.4 in /usr/local/lib/python3.10/dist-packages (from google-auth<3,>=1.6.3->tensorboard<2.16,>=2.15->tensorflow) (4.9)\n",
            "Requirement already satisfied: requests-oauthlib>=0.7.0 in /usr/local/lib/python3.10/dist-packages (from google-auth-oauthlib<2,>=0.5->tensorboard<2.16,>=2.15->tensorflow) (1.3.1)\n",
            "Requirement already satisfied: MarkupSafe>=2.1.1 in /usr/local/lib/python3.10/dist-packages (from werkzeug>=1.0.1->tensorboard<2.16,>=2.15->tensorflow) (2.1.5)\n",
            "Requirement already satisfied: pyasn1<0.7.0,>=0.4.6 in /usr/local/lib/python3.10/dist-packages (from pyasn1-modules>=0.2.1->google-auth<3,>=1.6.3->tensorboard<2.16,>=2.15->tensorflow) (0.6.0)\n",
            "Requirement already satisfied: oauthlib>=3.0.0 in /usr/local/lib/python3.10/dist-packages (from requests-oauthlib>=0.7.0->google-auth-oauthlib<2,>=0.5->tensorboard<2.16,>=2.15->tensorflow) (3.2.2)\n"
          ]
        }
      ]
    },
    {
      "cell_type": "code",
      "execution_count": null,
      "metadata": {
        "id": "bVHvQDx1N7X8"
      },
      "outputs": [],
      "source": [
        "import pandas as pd\n",
        "import re\n",
        "from nltk.stem import WordNetLemmatizer\n",
        "from nltk.corpus import stopwords\n",
        "import nltk\n",
        "from tensorflow.keras.preprocessing.text import Tokenizer\n",
        "from tensorflow.keras.preprocessing.sequence import pad_sequences\n",
        "import numpy as np\n",
        "import json\n",
        "from sklearn.model_selection import train_test_split\n",
        "import tensorflow as tf\n",
        "import keras_tuner as kt"
      ]
    },
    {
      "cell_type": "markdown",
      "source": [
        "## Load Dataset"
      ],
      "metadata": {
        "id": "vpjy35YsO2wp"
      }
    },
    {
      "cell_type": "markdown",
      "source": [],
      "metadata": {
        "id": "XJv5cdY_O4RM"
      }
    },
    {
      "cell_type": "code",
      "source": [
        "# Load dataset from CSV\n",
        "dataset = pd.read_csv('dataset-feeling.csv')\n",
        "\n",
        "# Check columns\n",
        "print(\"Columns in the dataset:\", dataset.columns)\n",
        "\n",
        "# Check if dataset contains the required columns\n",
        "if 'Teks' not in dataset.columns or 'Label' not in dataset.columns:\n",
        "    raise ValueError(\"The dataset must contain 'Teks' and 'Label' columns.\")"
      ],
      "metadata": {
        "colab": {
          "base_uri": "https://localhost:8080/"
        },
        "id": "IOW7jtWlO4zu",
        "outputId": "4bdcf5de-0562-4caa-92e3-bc30839ed362"
      },
      "execution_count": null,
      "outputs": [
        {
          "output_type": "stream",
          "name": "stdout",
          "text": [
            "Columns in the dataset: Index(['Teks', 'Label'], dtype='object')\n"
          ]
        }
      ]
    },
    {
      "cell_type": "markdown",
      "source": [
        "## Data Preprocessing"
      ],
      "metadata": {
        "id": "qvbrW4E4O7PZ"
      }
    },
    {
      "cell_type": "markdown",
      "source": [],
      "metadata": {
        "id": "r3hmctBeO86W"
      }
    },
    {
      "cell_type": "code",
      "source": [
        "nltk.download('wordnet')\n",
        "nltk.download('stopwords')\n",
        "\n",
        "# Daftar stop words Bahasa Indonesia\n",
        "stop_words_id = set(stopwords.words('indonesian'))\n",
        "\n",
        "# Clean the texts\n",
        "def clean_text(text):\n",
        "    text = text.lower()\n",
        "    text = re.sub(r'\\b\\w{1,2}\\b', '', text)  # remove short words\n",
        "    text = re.sub(r'\\d+', '', text)  # remove digits\n",
        "    text = re.sub(r'[^\\w\\s]', '', text)  # remove punctuation\n",
        "    text = re.sub(r'\\s+', ' ', text).strip()  # remove extra spaces\n",
        "    return text\n",
        "\n",
        "lemmatizer = WordNetLemmatizer()\n",
        "\n",
        "def preprocess_text(text):\n",
        "    text = clean_text(text)\n",
        "    words = text.split()\n",
        "    words = [lemmatizer.lemmatize(word) for word in words if word not in stop_words_id]\n",
        "    return ' '.join(words)\n",
        "\n",
        "dataset['Teks'] = dataset['Teks'].apply(preprocess_text)"
      ],
      "metadata": {
        "colab": {
          "base_uri": "https://localhost:8080/"
        },
        "id": "hcYHQTvWO9Vo",
        "outputId": "32a8a3ce-c8ac-4e03-d9aa-dc5e8747808d"
      },
      "execution_count": null,
      "outputs": [
        {
          "output_type": "stream",
          "name": "stderr",
          "text": [
            "[nltk_data] Downloading package wordnet to /root/nltk_data...\n",
            "[nltk_data] Downloading package stopwords to /root/nltk_data...\n",
            "[nltk_data]   Unzipping corpora/stopwords.zip.\n"
          ]
        }
      ]
    },
    {
      "cell_type": "markdown",
      "source": [
        "## Normalization"
      ],
      "metadata": {
        "id": "4Hz2paS9PI1g"
      }
    },
    {
      "cell_type": "markdown",
      "source": [],
      "metadata": {
        "id": "jr_LIa28PKVZ"
      }
    },
    {
      "cell_type": "code",
      "source": [
        "# Split texts and labels\n",
        "texts = dataset['Teks'].tolist()\n",
        "labels = dataset['Label'].tolist()\n",
        "\n",
        "# Tokenizing\n",
        "tokenizer = Tokenizer(num_words=5000)\n",
        "tokenizer.fit_on_texts(texts)\n",
        "sequences = tokenizer.texts_to_sequences(texts)\n",
        "word_index = tokenizer.word_index\n",
        "\n",
        "# Save the tokenizer\n",
        "with open('tokenizer.json', 'w') as f:\n",
        "    json.dump(tokenizer.to_json(), f)\n",
        "\n",
        "# Padding\n",
        "maxlen = 50\n",
        "data = pad_sequences(sequences, maxlen=maxlen)\n",
        "labels = np.array(labels)\n",
        "\n",
        "# Load GloVe embeddings\n",
        "def load_glove_embeddings(path):\n",
        "    embeddings_index = {}\n",
        "    with open(path, encoding='utf-8') as f:\n",
        "        for line in f:\n",
        "            values = line.split()\n",
        "            word = values[0]\n",
        "            coefs = np.asarray(values[1:], dtype='float32')\n",
        "            embeddings_index[word] = coefs\n",
        "    return embeddings_index\n",
        "\n",
        "# Download GloVe embeddings if not already done\n",
        "!wget --no-check-certificate http://nlp.stanford.edu/data/glove.6B.zip\n",
        "!unzip glove.6B.zip -d glove\n",
        "\n",
        "glove_path = 'glove/glove.6B.50d.txt'\n",
        "embeddings_index = load_glove_embeddings(glove_path)\n",
        "\n",
        "embedding_dim = 50\n",
        "embedding_matrix = np.zeros((len(word_index) + 1, embedding_dim))\n",
        "for word, i in word_index.items():\n",
        "    embedding_vector = embeddings_index.get(word)\n",
        "    if embedding_vector is not None:\n",
        "        embedding_matrix[i] = embedding_vector"
      ],
      "metadata": {
        "colab": {
          "base_uri": "https://localhost:8080/"
        },
        "id": "srcWkZPIPKo7",
        "outputId": "d8ca01a7-84ad-4f18-c6c0-edfb01b43a49"
      },
      "execution_count": null,
      "outputs": [
        {
          "output_type": "stream",
          "name": "stdout",
          "text": [
            "--2024-06-17 13:56:36--  http://nlp.stanford.edu/data/glove.6B.zip\n",
            "Resolving nlp.stanford.edu (nlp.stanford.edu)... 171.64.67.140\n",
            "Connecting to nlp.stanford.edu (nlp.stanford.edu)|171.64.67.140|:80... connected.\n",
            "HTTP request sent, awaiting response... 302 Found\n",
            "Location: https://nlp.stanford.edu/data/glove.6B.zip [following]\n",
            "--2024-06-17 13:56:37--  https://nlp.stanford.edu/data/glove.6B.zip\n",
            "Connecting to nlp.stanford.edu (nlp.stanford.edu)|171.64.67.140|:443... connected.\n",
            "HTTP request sent, awaiting response... 301 Moved Permanently\n",
            "Location: https://downloads.cs.stanford.edu/nlp/data/glove.6B.zip [following]\n",
            "--2024-06-17 13:56:37--  https://downloads.cs.stanford.edu/nlp/data/glove.6B.zip\n",
            "Resolving downloads.cs.stanford.edu (downloads.cs.stanford.edu)... 171.64.64.22\n",
            "Connecting to downloads.cs.stanford.edu (downloads.cs.stanford.edu)|171.64.64.22|:443... connected.\n",
            "HTTP request sent, awaiting response... 200 OK\n",
            "Length: 862182613 (822M) [application/zip]\n",
            "Saving to: ‘glove.6B.zip’\n",
            "\n",
            "glove.6B.zip        100%[===================>] 822.24M  5.13MB/s    in 2m 39s  \n",
            "\n",
            "2024-06-17 13:59:17 (5.17 MB/s) - ‘glove.6B.zip’ saved [862182613/862182613]\n",
            "\n",
            "Archive:  glove.6B.zip\n",
            "  inflating: glove/glove.6B.50d.txt  \n",
            "  inflating: glove/glove.6B.100d.txt  \n",
            "  inflating: glove/glove.6B.200d.txt  \n",
            "  inflating: glove/glove.6B.300d.txt  \n"
          ]
        }
      ]
    },
    {
      "cell_type": "markdown",
      "source": [
        "## Split Dataset"
      ],
      "metadata": {
        "id": "eooRQqxOPai1"
      }
    },
    {
      "cell_type": "code",
      "source": [
        "# Split the data into training, validation, and test sets\n",
        "X_temp, X_test, y_temp, y_test = train_test_split(data, labels, test_size=0.1, random_state=42)\n",
        "X_train, X_val, y_train, y_val = train_test_split(X_temp, y_temp, test_size=0.2, random_state=42)"
      ],
      "metadata": {
        "id": "uyMkUSDDP01A"
      },
      "execution_count": null,
      "outputs": []
    },
    {
      "cell_type": "markdown",
      "source": [
        "## Model Building"
      ],
      "metadata": {
        "id": "ZcvxvfohP27w"
      }
    },
    {
      "cell_type": "code",
      "source": [
        "# Define the model with three classes\n",
        "model = tf.keras.Sequential([\n",
        "    tf.keras.layers.Embedding(len(word_index) + 1, embedding_dim, input_length=maxlen, weights=[embedding_matrix], trainable=False),\n",
        "    tf.keras.layers.SpatialDropout1D(0.2),\n",
        "    tf.keras.layers.LSTM(64, dropout=0.2, recurrent_dropout=0.2, return_sequences=True),\n",
        "    tf.keras.layers.LSTM(64, return_sequences=True),  # Second LSTM layer\n",
        "    tf.keras.layers.LSTM(32, return_sequences=True),  # Third LSTM layer with return_sequences=True\n",
        "    tf.keras.layers.GlobalMaxPooling1D(),\n",
        "    tf.keras.layers.Dense(32, activation='relu'),\n",
        "    tf.keras.layers.Dropout(0.5),\n",
        "    tf.keras.layers.Dense(3, activation='softmax')  # Output layer for 3 classes with softmax activation\n",
        "])\n",
        "\n",
        "model.summary()"
      ],
      "metadata": {
        "colab": {
          "base_uri": "https://localhost:8080/"
        },
        "id": "oekTkn0TP2V4",
        "outputId": "12b86e46-3e1c-46ad-857b-e276cdaa7cfd"
      },
      "execution_count": null,
      "outputs": [
        {
          "output_type": "stream",
          "name": "stdout",
          "text": [
            "Model: \"sequential_2\"\n",
            "_________________________________________________________________\n",
            " Layer (type)                Output Shape              Param #   \n",
            "=================================================================\n",
            " embedding_2 (Embedding)     (None, 50, 50)            128900    \n",
            "                                                                 \n",
            " spatial_dropout1d_2 (Spati  (None, 50, 50)            0         \n",
            " alDropout1D)                                                    \n",
            "                                                                 \n",
            " lstm_4 (LSTM)               (None, 50, 64)            29440     \n",
            "                                                                 \n",
            " lstm_5 (LSTM)               (None, 50, 64)            33024     \n",
            "                                                                 \n",
            " lstm_6 (LSTM)               (None, 50, 32)            12416     \n",
            "                                                                 \n",
            " global_max_pooling1d_2 (Gl  (None, 32)                0         \n",
            " obalMaxPooling1D)                                               \n",
            "                                                                 \n",
            " dense_4 (Dense)             (None, 32)                1056      \n",
            "                                                                 \n",
            " dropout_2 (Dropout)         (None, 32)                0         \n",
            "                                                                 \n",
            " dense_5 (Dense)             (None, 3)                 99        \n",
            "                                                                 \n",
            "=================================================================\n",
            "Total params: 204935 (800.53 KB)\n",
            "Trainable params: 76035 (297.01 KB)\n",
            "Non-trainable params: 128900 (503.52 KB)\n",
            "_________________________________________________________________\n"
          ]
        }
      ]
    },
    {
      "cell_type": "markdown",
      "source": [
        "## Compile Model"
      ],
      "metadata": {
        "id": "LOuxnzetP7Jy"
      }
    },
    {
      "cell_type": "code",
      "source": [
        "model.compile(optimizer='adam', loss='sparse_categorical_crossentropy', metrics=['accuracy'])"
      ],
      "metadata": {
        "id": "2h-1nCN1P8tN"
      },
      "execution_count": null,
      "outputs": []
    },
    {
      "cell_type": "markdown",
      "source": [
        "## Train Model"
      ],
      "metadata": {
        "id": "gI7d-TTWP92c"
      }
    },
    {
      "cell_type": "code",
      "source": [
        "# Define a custom callback to stop training when accuracy and validation accuracy reach 95%\n",
        "class StopEpoch(tf.keras.callbacks.Callback):\n",
        "    def on_epoch_end(self, epoch, logs=None):\n",
        "        accuracy = logs.get('accuracy')\n",
        "        val_accuracy = logs.get('val_accuracy')\n",
        "        if accuracy is not None and val_accuracy is not None:\n",
        "            if accuracy > 0.85 and val_accuracy > 0.80:\n",
        "                print(f\"\\nStopping training as accuracy ({accuracy*100:.2f}%) and validation accuracy ({val_accuracy*100:.2f}%) have reached target\")\n",
        "                self.model.stop_training = True\n",
        "\n",
        "# Instantiate the custom callback\n",
        "stop_epoch= StopEpoch()\n",
        "\n",
        "# Training the model\n",
        "history = model.fit(X_train, y_train, epochs=500, validation_data=(X_val, y_val), batch_size=512, callbacks=[stop_epoch])"
      ],
      "metadata": {
        "colab": {
          "base_uri": "https://localhost:8080/"
        },
        "id": "MJUGVKd-P_rx",
        "outputId": "69610018-e34d-4eb4-cfa2-5594fa0b7135"
      },
      "execution_count": null,
      "outputs": [
        {
          "output_type": "stream",
          "name": "stdout",
          "text": [
            "Epoch 1/500\n",
            "2/2 [==============================] - 12s 3s/step - loss: 1.0994 - accuracy: 0.3131 - val_loss: 1.0916 - val_accuracy: 0.4895\n",
            "Epoch 2/500\n",
            "2/2 [==============================] - 2s 1s/step - loss: 1.0896 - accuracy: 0.4126 - val_loss: 1.0804 - val_accuracy: 0.4937\n",
            "Epoch 3/500\n",
            "2/2 [==============================] - 3s 1s/step - loss: 1.0827 - accuracy: 0.4408 - val_loss: 1.0665 - val_accuracy: 0.4937\n",
            "Epoch 4/500\n",
            "2/2 [==============================] - 3s 1s/step - loss: 1.0690 - accuracy: 0.4461 - val_loss: 1.0505 - val_accuracy: 0.4937\n",
            "Epoch 5/500\n",
            "2/2 [==============================] - 3s 1s/step - loss: 1.0537 - accuracy: 0.4649 - val_loss: 1.0351 - val_accuracy: 0.4937\n",
            "Epoch 6/500\n",
            "2/2 [==============================] - 3s 1s/step - loss: 1.0499 - accuracy: 0.4649 - val_loss: 1.0245 - val_accuracy: 0.4937\n",
            "Epoch 7/500\n",
            "2/2 [==============================] - 1s 646ms/step - loss: 1.0416 - accuracy: 0.4660 - val_loss: 1.0163 - val_accuracy: 0.4937\n",
            "Epoch 8/500\n",
            "2/2 [==============================] - 1s 716ms/step - loss: 1.0478 - accuracy: 0.4545 - val_loss: 1.0062 - val_accuracy: 0.4937\n",
            "Epoch 9/500\n",
            "2/2 [==============================] - 1s 672ms/step - loss: 1.0210 - accuracy: 0.4723 - val_loss: 0.9971 - val_accuracy: 0.4937\n",
            "Epoch 10/500\n",
            "2/2 [==============================] - 1s 708ms/step - loss: 1.0200 - accuracy: 0.4764 - val_loss: 0.9848 - val_accuracy: 0.4937\n",
            "Epoch 11/500\n",
            "2/2 [==============================] - 1s 719ms/step - loss: 1.0053 - accuracy: 0.4848 - val_loss: 0.9685 - val_accuracy: 0.4937\n",
            "Epoch 12/500\n",
            "2/2 [==============================] - 1s 715ms/step - loss: 0.9978 - accuracy: 0.4963 - val_loss: 0.9533 - val_accuracy: 0.4979\n",
            "Epoch 13/500\n",
            "2/2 [==============================] - 1s 665ms/step - loss: 0.9934 - accuracy: 0.5016 - val_loss: 0.9412 - val_accuracy: 0.5690\n",
            "Epoch 14/500\n",
            "2/2 [==============================] - 2s 2s/step - loss: 0.9757 - accuracy: 0.5393 - val_loss: 0.9287 - val_accuracy: 0.5941\n",
            "Epoch 15/500\n",
            "2/2 [==============================] - 3s 1s/step - loss: 0.9657 - accuracy: 0.5424 - val_loss: 0.9135 - val_accuracy: 0.5900\n",
            "Epoch 16/500\n",
            "2/2 [==============================] - 3s 1s/step - loss: 0.9455 - accuracy: 0.5476 - val_loss: 0.9030 - val_accuracy: 0.5858\n",
            "Epoch 17/500\n",
            "2/2 [==============================] - 2s 1s/step - loss: 0.9560 - accuracy: 0.5382 - val_loss: 0.8884 - val_accuracy: 0.5941\n",
            "Epoch 18/500\n",
            "2/2 [==============================] - 3s 1s/step - loss: 0.9275 - accuracy: 0.5487 - val_loss: 0.8817 - val_accuracy: 0.5983\n",
            "Epoch 19/500\n",
            "2/2 [==============================] - 3s 1s/step - loss: 0.9302 - accuracy: 0.5780 - val_loss: 0.8727 - val_accuracy: 0.6025\n",
            "Epoch 20/500\n",
            "2/2 [==============================] - 3s 1s/step - loss: 0.9273 - accuracy: 0.5623 - val_loss: 0.8591 - val_accuracy: 0.6109\n",
            "Epoch 21/500\n",
            "2/2 [==============================] - 2s 1s/step - loss: 0.9047 - accuracy: 0.5644 - val_loss: 0.8470 - val_accuracy: 0.6151\n",
            "Epoch 22/500\n",
            "2/2 [==============================] - 1s 677ms/step - loss: 0.8796 - accuracy: 0.5927 - val_loss: 0.8340 - val_accuracy: 0.6276\n",
            "Epoch 23/500\n",
            "2/2 [==============================] - 1s 699ms/step - loss: 0.8884 - accuracy: 0.5916 - val_loss: 0.8231 - val_accuracy: 0.6276\n",
            "Epoch 24/500\n",
            "2/2 [==============================] - 1s 666ms/step - loss: 0.8546 - accuracy: 0.6230 - val_loss: 0.8135 - val_accuracy: 0.6611\n",
            "Epoch 25/500\n",
            "2/2 [==============================] - 1s 695ms/step - loss: 0.8621 - accuracy: 0.6168 - val_loss: 0.8064 - val_accuracy: 0.6569\n",
            "Epoch 26/500\n",
            "2/2 [==============================] - 1s 717ms/step - loss: 0.8316 - accuracy: 0.6346 - val_loss: 0.7967 - val_accuracy: 0.6736\n",
            "Epoch 27/500\n",
            "2/2 [==============================] - 1s 670ms/step - loss: 0.8150 - accuracy: 0.6209 - val_loss: 0.7843 - val_accuracy: 0.6904\n",
            "Epoch 28/500\n",
            "2/2 [==============================] - 1s 735ms/step - loss: 0.8056 - accuracy: 0.6251 - val_loss: 0.7783 - val_accuracy: 0.7071\n",
            "Epoch 29/500\n",
            "2/2 [==============================] - 2s 1s/step - loss: 0.8192 - accuracy: 0.6073 - val_loss: 0.7648 - val_accuracy: 0.6946\n",
            "Epoch 30/500\n",
            "2/2 [==============================] - 2s 1s/step - loss: 0.7972 - accuracy: 0.6482 - val_loss: 0.7643 - val_accuracy: 0.6736\n",
            "Epoch 31/500\n",
            "2/2 [==============================] - 2s 1s/step - loss: 0.8086 - accuracy: 0.6419 - val_loss: 0.7580 - val_accuracy: 0.6862\n",
            "Epoch 32/500\n",
            "2/2 [==============================] - 2s 1s/step - loss: 0.7902 - accuracy: 0.6586 - val_loss: 0.7413 - val_accuracy: 0.7029\n",
            "Epoch 33/500\n",
            "2/2 [==============================] - 3s 1s/step - loss: 0.8084 - accuracy: 0.6356 - val_loss: 0.7322 - val_accuracy: 0.6862\n",
            "Epoch 34/500\n",
            "2/2 [==============================] - 3s 1s/step - loss: 0.7575 - accuracy: 0.6691 - val_loss: 0.7284 - val_accuracy: 0.6736\n",
            "Epoch 35/500\n",
            "2/2 [==============================] - 3s 1s/step - loss: 0.7417 - accuracy: 0.6712 - val_loss: 0.7102 - val_accuracy: 0.7113\n",
            "Epoch 36/500\n",
            "2/2 [==============================] - 3s 1s/step - loss: 0.7552 - accuracy: 0.6670 - val_loss: 0.7078 - val_accuracy: 0.7113\n",
            "Epoch 37/500\n",
            "2/2 [==============================] - 1s 717ms/step - loss: 0.7683 - accuracy: 0.6492 - val_loss: 0.6984 - val_accuracy: 0.7238\n",
            "Epoch 38/500\n",
            "2/2 [==============================] - 1s 725ms/step - loss: 0.7420 - accuracy: 0.6785 - val_loss: 0.6942 - val_accuracy: 0.7029\n",
            "Epoch 39/500\n",
            "2/2 [==============================] - 1s 729ms/step - loss: 0.7502 - accuracy: 0.6660 - val_loss: 0.6925 - val_accuracy: 0.7071\n",
            "Epoch 40/500\n",
            "2/2 [==============================] - 1s 668ms/step - loss: 0.7235 - accuracy: 0.6869 - val_loss: 0.6877 - val_accuracy: 0.7071\n",
            "Epoch 41/500\n",
            "2/2 [==============================] - 1s 679ms/step - loss: 0.7294 - accuracy: 0.6691 - val_loss: 0.6753 - val_accuracy: 0.7280\n",
            "Epoch 42/500\n",
            "2/2 [==============================] - 1s 726ms/step - loss: 0.7114 - accuracy: 0.6796 - val_loss: 0.6745 - val_accuracy: 0.7113\n",
            "Epoch 43/500\n",
            "2/2 [==============================] - 1s 747ms/step - loss: 0.6872 - accuracy: 0.7026 - val_loss: 0.6651 - val_accuracy: 0.7238\n",
            "Epoch 44/500\n",
            "2/2 [==============================] - 2s 1s/step - loss: 0.6948 - accuracy: 0.6838 - val_loss: 0.6577 - val_accuracy: 0.7238\n",
            "Epoch 45/500\n",
            "2/2 [==============================] - 2s 1s/step - loss: 0.6889 - accuracy: 0.6963 - val_loss: 0.6561 - val_accuracy: 0.7113\n",
            "Epoch 46/500\n",
            "2/2 [==============================] - 3s 1s/step - loss: 0.6781 - accuracy: 0.7120 - val_loss: 0.6529 - val_accuracy: 0.7113\n",
            "Epoch 47/500\n",
            "2/2 [==============================] - 2s 1s/step - loss: 0.6679 - accuracy: 0.7141 - val_loss: 0.6477 - val_accuracy: 0.7238\n",
            "Epoch 48/500\n",
            "2/2 [==============================] - 3s 1s/step - loss: 0.6693 - accuracy: 0.7079 - val_loss: 0.6455 - val_accuracy: 0.7113\n",
            "Epoch 49/500\n",
            "2/2 [==============================] - 3s 1s/step - loss: 0.6547 - accuracy: 0.7267 - val_loss: 0.6460 - val_accuracy: 0.7197\n",
            "Epoch 50/500\n",
            "2/2 [==============================] - 2s 1s/step - loss: 0.6519 - accuracy: 0.7099 - val_loss: 0.6451 - val_accuracy: 0.7113\n",
            "Epoch 51/500\n",
            "2/2 [==============================] - 2s 1s/step - loss: 0.6535 - accuracy: 0.7131 - val_loss: 0.6403 - val_accuracy: 0.7238\n",
            "Epoch 52/500\n",
            "2/2 [==============================] - 2s 720ms/step - loss: 0.6303 - accuracy: 0.7246 - val_loss: 0.6324 - val_accuracy: 0.7155\n",
            "Epoch 53/500\n",
            "2/2 [==============================] - 1s 713ms/step - loss: 0.6328 - accuracy: 0.7120 - val_loss: 0.6290 - val_accuracy: 0.7113\n",
            "Epoch 54/500\n",
            "2/2 [==============================] - 1s 705ms/step - loss: 0.6190 - accuracy: 0.7120 - val_loss: 0.6250 - val_accuracy: 0.7448\n",
            "Epoch 55/500\n",
            "2/2 [==============================] - 1s 683ms/step - loss: 0.6192 - accuracy: 0.7246 - val_loss: 0.6302 - val_accuracy: 0.7490\n",
            "Epoch 56/500\n",
            "2/2 [==============================] - 1s 727ms/step - loss: 0.6147 - accuracy: 0.7215 - val_loss: 0.6272 - val_accuracy: 0.7197\n",
            "Epoch 57/500\n",
            "2/2 [==============================] - 1s 669ms/step - loss: 0.6051 - accuracy: 0.7351 - val_loss: 0.6295 - val_accuracy: 0.7029\n",
            "Epoch 58/500\n",
            "2/2 [==============================] - 1s 681ms/step - loss: 0.6155 - accuracy: 0.7372 - val_loss: 0.6211 - val_accuracy: 0.7448\n",
            "Epoch 59/500\n",
            "2/2 [==============================] - 2s 963ms/step - loss: 0.6040 - accuracy: 0.7351 - val_loss: 0.6128 - val_accuracy: 0.7322\n",
            "Epoch 60/500\n",
            "2/2 [==============================] - 2s 1s/step - loss: 0.6002 - accuracy: 0.7309 - val_loss: 0.6077 - val_accuracy: 0.7448\n",
            "Epoch 61/500\n",
            "2/2 [==============================] - 3s 1s/step - loss: 0.5986 - accuracy: 0.7288 - val_loss: 0.6360 - val_accuracy: 0.7490\n",
            "Epoch 62/500\n",
            "2/2 [==============================] - 2s 1s/step - loss: 0.6047 - accuracy: 0.7351 - val_loss: 0.6045 - val_accuracy: 0.7364\n",
            "Epoch 63/500\n",
            "2/2 [==============================] - 3s 1s/step - loss: 0.5891 - accuracy: 0.7455 - val_loss: 0.6095 - val_accuracy: 0.7197\n",
            "Epoch 64/500\n",
            "2/2 [==============================] - 3s 1s/step - loss: 0.5646 - accuracy: 0.7571 - val_loss: 0.6065 - val_accuracy: 0.7615\n",
            "Epoch 65/500\n",
            "2/2 [==============================] - 3s 1s/step - loss: 0.5959 - accuracy: 0.7330 - val_loss: 0.5968 - val_accuracy: 0.7615\n",
            "Epoch 66/500\n",
            "2/2 [==============================] - 2s 1s/step - loss: 0.5845 - accuracy: 0.7466 - val_loss: 0.5957 - val_accuracy: 0.7406\n",
            "Epoch 67/500\n",
            "2/2 [==============================] - 1s 667ms/step - loss: 0.5753 - accuracy: 0.7309 - val_loss: 0.5895 - val_accuracy: 0.7657\n",
            "Epoch 68/500\n",
            "2/2 [==============================] - 1s 675ms/step - loss: 0.5648 - accuracy: 0.7382 - val_loss: 0.5828 - val_accuracy: 0.7699\n",
            "Epoch 69/500\n",
            "2/2 [==============================] - 1s 687ms/step - loss: 0.5657 - accuracy: 0.7529 - val_loss: 0.5880 - val_accuracy: 0.7531\n",
            "Epoch 70/500\n",
            "2/2 [==============================] - 1s 736ms/step - loss: 0.5616 - accuracy: 0.7675 - val_loss: 0.6048 - val_accuracy: 0.7615\n",
            "Epoch 71/500\n",
            "2/2 [==============================] - 1s 669ms/step - loss: 0.5594 - accuracy: 0.7518 - val_loss: 0.5831 - val_accuracy: 0.7573\n",
            "Epoch 72/500\n",
            "2/2 [==============================] - 1s 675ms/step - loss: 0.5469 - accuracy: 0.7602 - val_loss: 0.5717 - val_accuracy: 0.7364\n",
            "Epoch 73/500\n",
            "2/2 [==============================] - 1s 672ms/step - loss: 0.5340 - accuracy: 0.7717 - val_loss: 0.5700 - val_accuracy: 0.7657\n",
            "Epoch 74/500\n",
            "2/2 [==============================] - 1s 886ms/step - loss: 0.5221 - accuracy: 0.7707 - val_loss: 0.5608 - val_accuracy: 0.7699\n",
            "Epoch 75/500\n",
            "2/2 [==============================] - 2s 1s/step - loss: 0.5152 - accuracy: 0.7874 - val_loss: 0.5571 - val_accuracy: 0.7531\n",
            "Epoch 76/500\n",
            "2/2 [==============================] - 3s 1s/step - loss: 0.5173 - accuracy: 0.7853 - val_loss: 0.5591 - val_accuracy: 0.7531\n",
            "Epoch 77/500\n",
            "2/2 [==============================] - 3s 1s/step - loss: 0.5215 - accuracy: 0.7717 - val_loss: 0.5612 - val_accuracy: 0.7699\n",
            "Epoch 78/500\n",
            "2/2 [==============================] - 2s 1s/step - loss: 0.5009 - accuracy: 0.7832 - val_loss: 0.5594 - val_accuracy: 0.7657\n",
            "Epoch 79/500\n",
            "2/2 [==============================] - 3s 1s/step - loss: 0.5101 - accuracy: 0.7602 - val_loss: 0.5564 - val_accuracy: 0.7448\n",
            "Epoch 80/500\n",
            "2/2 [==============================] - 3s 1s/step - loss: 0.5260 - accuracy: 0.7728 - val_loss: 0.5484 - val_accuracy: 0.7657\n",
            "Epoch 81/500\n",
            "2/2 [==============================] - 3s 1s/step - loss: 0.5148 - accuracy: 0.7791 - val_loss: 0.5452 - val_accuracy: 0.7699\n",
            "Epoch 82/500\n",
            "2/2 [==============================] - 2s 832ms/step - loss: 0.5111 - accuracy: 0.7864 - val_loss: 0.5372 - val_accuracy: 0.7657\n",
            "Epoch 83/500\n",
            "2/2 [==============================] - 1s 711ms/step - loss: 0.4900 - accuracy: 0.7728 - val_loss: 0.5378 - val_accuracy: 0.7741\n",
            "Epoch 84/500\n",
            "2/2 [==============================] - 1s 691ms/step - loss: 0.5051 - accuracy: 0.7812 - val_loss: 0.5881 - val_accuracy: 0.7741\n",
            "Epoch 85/500\n",
            "2/2 [==============================] - 1s 709ms/step - loss: 0.5063 - accuracy: 0.7895 - val_loss: 0.5423 - val_accuracy: 0.7573\n",
            "Epoch 86/500\n",
            "2/2 [==============================] - 1s 735ms/step - loss: 0.4945 - accuracy: 0.7791 - val_loss: 0.5466 - val_accuracy: 0.7573\n",
            "Epoch 87/500\n",
            "2/2 [==============================] - 1s 687ms/step - loss: 0.4904 - accuracy: 0.7864 - val_loss: 0.5875 - val_accuracy: 0.7615\n",
            "Epoch 88/500\n",
            "2/2 [==============================] - 1s 675ms/step - loss: 0.4852 - accuracy: 0.7749 - val_loss: 0.5302 - val_accuracy: 0.7824\n",
            "Epoch 89/500\n",
            "2/2 [==============================] - 1s 697ms/step - loss: 0.4995 - accuracy: 0.7791 - val_loss: 0.5315 - val_accuracy: 0.7782\n",
            "Epoch 90/500\n",
            "2/2 [==============================] - 2s 1s/step - loss: 0.4876 - accuracy: 0.7853 - val_loss: 0.5639 - val_accuracy: 0.7782\n",
            "Epoch 91/500\n",
            "2/2 [==============================] - 2s 1s/step - loss: 0.4711 - accuracy: 0.7843 - val_loss: 0.5448 - val_accuracy: 0.7699\n",
            "Epoch 92/500\n",
            "2/2 [==============================] - 3s 1s/step - loss: 0.5009 - accuracy: 0.7927 - val_loss: 0.5303 - val_accuracy: 0.7699\n",
            "Epoch 93/500\n",
            "2/2 [==============================] - 2s 1s/step - loss: 0.4640 - accuracy: 0.7906 - val_loss: 0.5332 - val_accuracy: 0.7824\n",
            "Epoch 94/500\n",
            "2/2 [==============================] - 3s 1s/step - loss: 0.4566 - accuracy: 0.8000 - val_loss: 0.5506 - val_accuracy: 0.7866\n",
            "Epoch 95/500\n",
            "2/2 [==============================] - 3s 1s/step - loss: 0.4707 - accuracy: 0.7937 - val_loss: 0.5265 - val_accuracy: 0.7699\n",
            "Epoch 96/500\n",
            "2/2 [==============================] - 2s 1s/step - loss: 0.4860 - accuracy: 0.7937 - val_loss: 0.5264 - val_accuracy: 0.7741\n",
            "Epoch 97/500\n",
            "2/2 [==============================] - 3s 1s/step - loss: 0.4409 - accuracy: 0.8188 - val_loss: 0.5440 - val_accuracy: 0.7782\n",
            "Epoch 98/500\n",
            "2/2 [==============================] - 1s 713ms/step - loss: 0.4484 - accuracy: 0.8094 - val_loss: 0.5300 - val_accuracy: 0.7699\n",
            "Epoch 99/500\n",
            "2/2 [==============================] - 1s 687ms/step - loss: 0.4408 - accuracy: 0.8031 - val_loss: 0.5345 - val_accuracy: 0.7782\n",
            "Epoch 100/500\n",
            "2/2 [==============================] - 1s 725ms/step - loss: 0.4533 - accuracy: 0.8073 - val_loss: 0.5423 - val_accuracy: 0.7741\n",
            "Epoch 101/500\n",
            "2/2 [==============================] - 1s 720ms/step - loss: 0.4534 - accuracy: 0.7969 - val_loss: 0.5550 - val_accuracy: 0.7824\n",
            "Epoch 102/500\n",
            "2/2 [==============================] - 1s 669ms/step - loss: 0.4496 - accuracy: 0.7969 - val_loss: 0.5402 - val_accuracy: 0.7699\n",
            "Epoch 103/500\n",
            "2/2 [==============================] - 1s 724ms/step - loss: 0.4241 - accuracy: 0.8115 - val_loss: 0.5363 - val_accuracy: 0.7699\n",
            "Epoch 104/500\n",
            "2/2 [==============================] - 1s 707ms/step - loss: 0.4471 - accuracy: 0.8042 - val_loss: 0.5453 - val_accuracy: 0.7699\n",
            "Epoch 105/500\n",
            "2/2 [==============================] - 2s 1s/step - loss: 0.4313 - accuracy: 0.8042 - val_loss: 0.5523 - val_accuracy: 0.7782\n",
            "Epoch 106/500\n",
            "2/2 [==============================] - 2s 1s/step - loss: 0.4383 - accuracy: 0.8042 - val_loss: 0.5501 - val_accuracy: 0.7741\n",
            "Epoch 107/500\n",
            "2/2 [==============================] - 2s 1s/step - loss: 0.4549 - accuracy: 0.7895 - val_loss: 0.5455 - val_accuracy: 0.7657\n",
            "Epoch 108/500\n",
            "2/2 [==============================] - 2s 1s/step - loss: 0.4330 - accuracy: 0.8010 - val_loss: 0.5357 - val_accuracy: 0.7741\n",
            "Epoch 109/500\n",
            "2/2 [==============================] - 2s 1s/step - loss: 0.4309 - accuracy: 0.8105 - val_loss: 0.5267 - val_accuracy: 0.7908\n",
            "Epoch 110/500\n",
            "2/2 [==============================] - 3s 1s/step - loss: 0.4363 - accuracy: 0.8157 - val_loss: 0.5243 - val_accuracy: 0.7824\n",
            "Epoch 111/500\n",
            "2/2 [==============================] - 3s 1s/step - loss: 0.4257 - accuracy: 0.8063 - val_loss: 0.5260 - val_accuracy: 0.7824\n",
            "Epoch 112/500\n",
            "2/2 [==============================] - 3s 1s/step - loss: 0.4159 - accuracy: 0.8157 - val_loss: 0.5413 - val_accuracy: 0.7824\n",
            "Epoch 113/500\n",
            "2/2 [==============================] - 1s 735ms/step - loss: 0.4229 - accuracy: 0.8094 - val_loss: 0.5340 - val_accuracy: 0.7866\n",
            "Epoch 114/500\n",
            "2/2 [==============================] - 1s 729ms/step - loss: 0.4178 - accuracy: 0.8209 - val_loss: 0.5363 - val_accuracy: 0.7908\n",
            "Epoch 115/500\n",
            "2/2 [==============================] - 1s 708ms/step - loss: 0.4595 - accuracy: 0.7990 - val_loss: 0.5282 - val_accuracy: 0.7950\n",
            "Epoch 116/500\n",
            "2/2 [==============================] - 1s 726ms/step - loss: 0.4345 - accuracy: 0.7979 - val_loss: 0.5320 - val_accuracy: 0.7908\n",
            "Epoch 117/500\n",
            "2/2 [==============================] - 1s 726ms/step - loss: 0.3896 - accuracy: 0.8293 - val_loss: 0.5545 - val_accuracy: 0.7824\n",
            "Epoch 118/500\n",
            "2/2 [==============================] - 1s 667ms/step - loss: 0.4367 - accuracy: 0.8052 - val_loss: 0.5372 - val_accuracy: 0.7824\n",
            "Epoch 119/500\n",
            "2/2 [==============================] - 1s 680ms/step - loss: 0.4005 - accuracy: 0.8230 - val_loss: 0.5311 - val_accuracy: 0.7908\n",
            "Epoch 120/500\n",
            "2/2 [==============================] - 2s 1s/step - loss: 0.4074 - accuracy: 0.8262 - val_loss: 0.5324 - val_accuracy: 0.7866\n",
            "Epoch 121/500\n",
            "2/2 [==============================] - 2s 1s/step - loss: 0.3996 - accuracy: 0.8126 - val_loss: 0.5261 - val_accuracy: 0.7866\n",
            "Epoch 122/500\n",
            "2/2 [==============================] - 2s 1s/step - loss: 0.4043 - accuracy: 0.8293 - val_loss: 0.5346 - val_accuracy: 0.7866\n",
            "Epoch 123/500\n",
            "2/2 [==============================] - 2s 1s/step - loss: 0.4036 - accuracy: 0.8293 - val_loss: 0.5193 - val_accuracy: 0.7950\n",
            "Epoch 124/500\n",
            "2/2 [==============================] - 3s 1s/step - loss: 0.4111 - accuracy: 0.8335 - val_loss: 0.5209 - val_accuracy: 0.7908\n",
            "Epoch 125/500\n",
            "2/2 [==============================] - 3s 1s/step - loss: 0.4117 - accuracy: 0.8199 - val_loss: 0.5299 - val_accuracy: 0.7950\n",
            "Epoch 126/500\n",
            "2/2 [==============================] - 3s 1s/step - loss: 0.3917 - accuracy: 0.8136 - val_loss: 0.5156 - val_accuracy: 0.7908\n",
            "Epoch 127/500\n",
            "2/2 [==============================] - 3s 1s/step - loss: 0.3815 - accuracy: 0.8241 - val_loss: 0.5270 - val_accuracy: 0.8033\n",
            "Epoch 128/500\n",
            "2/2 [==============================] - 2s 718ms/step - loss: 0.4089 - accuracy: 0.8209 - val_loss: 0.5291 - val_accuracy: 0.7950\n",
            "Epoch 129/500\n",
            "2/2 [==============================] - 1s 679ms/step - loss: 0.3751 - accuracy: 0.8346 - val_loss: 0.5211 - val_accuracy: 0.7992\n",
            "Epoch 130/500\n",
            "2/2 [==============================] - 1s 681ms/step - loss: 0.3982 - accuracy: 0.8262 - val_loss: 0.5584 - val_accuracy: 0.7866\n",
            "Epoch 131/500\n",
            "2/2 [==============================] - 1s 709ms/step - loss: 0.3985 - accuracy: 0.8209 - val_loss: 0.5361 - val_accuracy: 0.8033\n",
            "Epoch 132/500\n",
            "2/2 [==============================] - 1s 683ms/step - loss: 0.3902 - accuracy: 0.8220 - val_loss: 0.5381 - val_accuracy: 0.7866\n",
            "Epoch 133/500\n",
            "2/2 [==============================] - 1s 687ms/step - loss: 0.4066 - accuracy: 0.8126 - val_loss: 0.5616 - val_accuracy: 0.7866\n",
            "Epoch 134/500\n",
            "2/2 [==============================] - 1s 722ms/step - loss: 0.3902 - accuracy: 0.8220 - val_loss: 0.5350 - val_accuracy: 0.7908\n",
            "Epoch 135/500\n",
            "2/2 [==============================] - 2s 890ms/step - loss: 0.3998 - accuracy: 0.8199 - val_loss: 0.5313 - val_accuracy: 0.8033\n",
            "Epoch 136/500\n",
            "2/2 [==============================] - 2s 1s/step - loss: 0.3896 - accuracy: 0.8230 - val_loss: 0.5475 - val_accuracy: 0.7741\n",
            "Epoch 137/500\n",
            "2/2 [==============================] - 3s 1s/step - loss: 0.3928 - accuracy: 0.8241 - val_loss: 0.5280 - val_accuracy: 0.7908\n",
            "Epoch 138/500\n",
            "2/2 [==============================] - 3s 1s/step - loss: 0.3965 - accuracy: 0.8251 - val_loss: 0.5262 - val_accuracy: 0.7908\n",
            "Epoch 139/500\n",
            "2/2 [==============================] - 3s 1s/step - loss: 0.4007 - accuracy: 0.8094 - val_loss: 0.5361 - val_accuracy: 0.7866\n",
            "Epoch 140/500\n",
            "2/2 [==============================] - 3s 1s/step - loss: 0.3798 - accuracy: 0.8241 - val_loss: 0.5415 - val_accuracy: 0.7824\n",
            "Epoch 141/500\n",
            "2/2 [==============================] - 2s 1s/step - loss: 0.3728 - accuracy: 0.8262 - val_loss: 0.5221 - val_accuracy: 0.8033\n",
            "Epoch 142/500\n",
            "2/2 [==============================] - 2s 1s/step - loss: 0.3860 - accuracy: 0.8356 - val_loss: 0.5206 - val_accuracy: 0.8033\n",
            "Epoch 143/500\n",
            "2/2 [==============================] - 2s 911ms/step - loss: 0.3904 - accuracy: 0.8262 - val_loss: 0.5413 - val_accuracy: 0.7866\n",
            "Epoch 144/500\n",
            "2/2 [==============================] - 1s 686ms/step - loss: 0.3744 - accuracy: 0.8293 - val_loss: 0.5136 - val_accuracy: 0.7950\n",
            "Epoch 145/500\n",
            "2/2 [==============================] - 1s 681ms/step - loss: 0.3600 - accuracy: 0.8356 - val_loss: 0.5115 - val_accuracy: 0.7950\n",
            "Epoch 146/500\n",
            "2/2 [==============================] - 1s 679ms/step - loss: 0.3582 - accuracy: 0.8293 - val_loss: 0.5253 - val_accuracy: 0.7908\n",
            "Epoch 147/500\n",
            "2/2 [==============================] - 1s 701ms/step - loss: 0.3634 - accuracy: 0.8314 - val_loss: 0.5273 - val_accuracy: 0.7908\n",
            "Epoch 148/500\n",
            "2/2 [==============================] - 1s 720ms/step - loss: 0.3711 - accuracy: 0.8366 - val_loss: 0.5200 - val_accuracy: 0.7992\n",
            "Epoch 149/500\n",
            "2/2 [==============================] - 1s 679ms/step - loss: 0.3658 - accuracy: 0.8429 - val_loss: 0.5222 - val_accuracy: 0.8075\n",
            "Epoch 150/500\n",
            "2/2 [==============================] - 1s 676ms/step - loss: 0.3750 - accuracy: 0.8188 - val_loss: 0.5523 - val_accuracy: 0.7908\n",
            "Epoch 151/500\n",
            "2/2 [==============================] - 2s 1s/step - loss: 0.3748 - accuracy: 0.8283 - val_loss: 0.5260 - val_accuracy: 0.7950\n",
            "Epoch 152/500\n",
            "2/2 [==============================] - ETA: 0s - loss: 0.3495 - accuracy: 0.8524\n",
            "Stopping training as accuracy (85.24%) and validation accuracy (80.75%) have reached target\n",
            "2/2 [==============================] - 2s 1s/step - loss: 0.3495 - accuracy: 0.8524 - val_loss: 0.5201 - val_accuracy: 0.8075\n"
          ]
        }
      ]
    },
    {
      "cell_type": "markdown",
      "source": [
        "## Evaluate Model"
      ],
      "metadata": {
        "id": "eTudeSY4QHi4"
      }
    },
    {
      "cell_type": "code",
      "source": [
        "# Evaluate the model on the test set\n",
        "test_loss, test_accuracy = model.evaluate(X_test, y_test)\n",
        "print(f'Test Accuracy: {test_accuracy*100:.2f}%')"
      ],
      "metadata": {
        "colab": {
          "base_uri": "https://localhost:8080/"
        },
        "id": "tscDff2MQHN_",
        "outputId": "9b40cba5-4c00-403a-a6d1-29cc55d2d357"
      },
      "execution_count": null,
      "outputs": [
        {
          "output_type": "stream",
          "name": "stdout",
          "text": [
            "5/5 [==============================] - 0s 36ms/step - loss: 0.5848 - accuracy: 0.7820\n",
            "Test Accuracy: 78.20%\n"
          ]
        }
      ]
    },
    {
      "cell_type": "markdown",
      "source": [
        "## Tuning"
      ],
      "metadata": {
        "id": "x0iqeSnJQKl7"
      }
    },
    {
      "cell_type": "code",
      "source": [
        "def build_model(hp):\n",
        "    model = tf.keras.Sequential()\n",
        "    model.add(tf.keras.layers.Embedding(len(word_index) + 1, embedding_dim, input_length=maxlen, weights=[embedding_matrix], trainable=False))\n",
        "    model.add(tf.keras.layers.SpatialDropout1D(0.2))\n",
        "    for i in range(hp.Int('num_layers', 1, 3)):\n",
        "        model.add(tf.keras.layers.LSTM(units=hp.Int('units_' + str(i), min_value=64, max_value=256, step=64),\n",
        "                                       dropout=hp.Float('dropout_' + str(i), 0.1, 0.5, step=0.1),\n",
        "                                       recurrent_dropout=hp.Float('recurrent_dropout_' + str(i), 0.1, 0.5, step=0.1),\n",
        "                                       return_sequences=True))\n",
        "    model.add(tf.keras.layers.GlobalMaxPooling1D())\n",
        "    model.add(tf.keras.layers.Dense(hp.Int('dense_units', 64, 256, step=64), activation='relu'))\n",
        "    model.add(tf.keras.layers.Dropout(hp.Float('dropout_dense', 0.1, 0.5, step=0.1)))\n",
        "    model.add(tf.keras.layers.Dense(3, activation='softmax'))\n",
        "\n",
        "    model.compile(optimizer='adam', loss='sparse_categorical_crossentropy', metrics=['accuracy'])\n",
        "    return model\n",
        "\n",
        "tuner = kt.BayesianOptimization(\n",
        "    build_model,\n",
        "    objective='val_accuracy',\n",
        "    max_trials=3,\n",
        "    directory='my_dir',\n",
        "    project_name='emotion_detection_bayesian'\n",
        ")\n",
        "\n",
        "tuner.search(X_train, y_train, epochs=15, validation_data=(X_val, y_val))\n",
        "best_model = tuner.get_best_models(num_models=1)[0]\n",
        "best_model.summary()\n",
        "\n",
        "# Retrain the best model on the full training data\n",
        "best_model.fit(X_train, y_train, epochs=25, validation_data=(X_val, y_val))\n",
        "\n",
        "# Save the best model\n",
        "best_model.save('feeling_detection_model_2.h5')"
      ],
      "metadata": {
        "colab": {
          "base_uri": "https://localhost:8080/"
        },
        "id": "38EgwIdGQLnM",
        "outputId": "f5981aa6-d6f6-4161-c4a1-a01dcd5ae1b0"
      },
      "execution_count": null,
      "outputs": [
        {
          "output_type": "stream",
          "name": "stdout",
          "text": [
            "Reloading Tuner from my_dir/emotion_detection_bayesian/tuner0.json\n",
            "Model: \"sequential\"\n",
            "_________________________________________________________________\n",
            " Layer (type)                Output Shape              Param #   \n",
            "=================================================================\n",
            " embedding (Embedding)       (None, 50, 50)            128900    \n",
            "                                                                 \n",
            " spatial_dropout1d (Spatial  (None, 50, 50)            0         \n",
            " Dropout1D)                                                      \n",
            "                                                                 \n",
            " lstm (LSTM)                 (None, 50, 192)           186624    \n",
            "                                                                 \n",
            " global_max_pooling1d (Glob  (None, 192)               0         \n",
            " alMaxPooling1D)                                                 \n",
            "                                                                 \n",
            " dense (Dense)               (None, 128)               24704     \n",
            "                                                                 \n",
            " dropout (Dropout)           (None, 128)               0         \n",
            "                                                                 \n",
            " dense_1 (Dense)             (None, 3)                 387       \n",
            "                                                                 \n",
            "=================================================================\n",
            "Total params: 340615 (1.30 MB)\n",
            "Trainable params: 211715 (827.01 KB)\n",
            "Non-trainable params: 128900 (503.52 KB)\n",
            "_________________________________________________________________\n",
            "Epoch 1/25\n",
            "30/30 [==============================] - 10s 214ms/step - loss: 0.1667 - accuracy: 0.9319 - val_loss: 0.6337 - val_accuracy: 0.8159\n",
            "Epoch 2/25\n",
            "30/30 [==============================] - 11s 361ms/step - loss: 0.1838 - accuracy: 0.9110 - val_loss: 0.6254 - val_accuracy: 0.8033\n",
            "Epoch 3/25\n",
            "30/30 [==============================] - 12s 394ms/step - loss: 0.1745 - accuracy: 0.9246 - val_loss: 0.6992 - val_accuracy: 0.8117\n",
            "Epoch 4/25\n",
            "30/30 [==============================] - 7s 229ms/step - loss: 0.1924 - accuracy: 0.9058 - val_loss: 0.6812 - val_accuracy: 0.7866\n",
            "Epoch 5/25\n",
            "30/30 [==============================] - 7s 238ms/step - loss: 0.1812 - accuracy: 0.9141 - val_loss: 0.6375 - val_accuracy: 0.7908\n",
            "Epoch 6/25\n",
            "30/30 [==============================] - 12s 391ms/step - loss: 0.1721 - accuracy: 0.9225 - val_loss: 0.6834 - val_accuracy: 0.8033\n",
            "Epoch 7/25\n",
            "30/30 [==============================] - 10s 342ms/step - loss: 0.1766 - accuracy: 0.9141 - val_loss: 0.6372 - val_accuracy: 0.8075\n",
            "Epoch 8/25\n",
            "30/30 [==============================] - 6s 202ms/step - loss: 0.1604 - accuracy: 0.9257 - val_loss: 0.6413 - val_accuracy: 0.8117\n",
            "Epoch 9/25\n",
            "30/30 [==============================] - 9s 311ms/step - loss: 0.1758 - accuracy: 0.9131 - val_loss: 0.6690 - val_accuracy: 0.7866\n",
            "Epoch 10/25\n",
            "30/30 [==============================] - 12s 396ms/step - loss: 0.1690 - accuracy: 0.9204 - val_loss: 0.6924 - val_accuracy: 0.7866\n",
            "Epoch 11/25\n",
            "30/30 [==============================] - 8s 273ms/step - loss: 0.1805 - accuracy: 0.9194 - val_loss: 0.6656 - val_accuracy: 0.8117\n",
            "Epoch 12/25\n",
            "30/30 [==============================] - 6s 200ms/step - loss: 0.1560 - accuracy: 0.9246 - val_loss: 0.6504 - val_accuracy: 0.8075\n",
            "Epoch 13/25\n",
            "30/30 [==============================] - 11s 374ms/step - loss: 0.1604 - accuracy: 0.9194 - val_loss: 0.7292 - val_accuracy: 0.8075\n",
            "Epoch 14/25\n",
            "30/30 [==============================] - 12s 390ms/step - loss: 0.1605 - accuracy: 0.9194 - val_loss: 0.7068 - val_accuracy: 0.8033\n",
            "Epoch 15/25\n",
            "30/30 [==============================] - 7s 212ms/step - loss: 0.1891 - accuracy: 0.9173 - val_loss: 0.7416 - val_accuracy: 0.8075\n",
            "Epoch 16/25\n",
            "30/30 [==============================] - 8s 256ms/step - loss: 0.1583 - accuracy: 0.9246 - val_loss: 0.7292 - val_accuracy: 0.8117\n",
            "Epoch 17/25\n",
            "30/30 [==============================] - 11s 381ms/step - loss: 0.1922 - accuracy: 0.9173 - val_loss: 0.6571 - val_accuracy: 0.8201\n",
            "Epoch 18/25\n",
            "30/30 [==============================] - 10s 329ms/step - loss: 0.1662 - accuracy: 0.9152 - val_loss: 0.6714 - val_accuracy: 0.8075\n",
            "Epoch 19/25\n",
            "30/30 [==============================] - 6s 199ms/step - loss: 0.1612 - accuracy: 0.9236 - val_loss: 0.6738 - val_accuracy: 0.8033\n",
            "Epoch 20/25\n",
            "30/30 [==============================] - 9s 320ms/step - loss: 0.1670 - accuracy: 0.9183 - val_loss: 0.6870 - val_accuracy: 0.8075\n",
            "Epoch 21/25\n",
            "30/30 [==============================] - 12s 392ms/step - loss: 0.1682 - accuracy: 0.9257 - val_loss: 0.6831 - val_accuracy: 0.8243\n",
            "Epoch 22/25\n",
            "30/30 [==============================] - 8s 269ms/step - loss: 0.1595 - accuracy: 0.9183 - val_loss: 0.7105 - val_accuracy: 0.8243\n",
            "Epoch 23/25\n",
            "30/30 [==============================] - 6s 199ms/step - loss: 0.1637 - accuracy: 0.9215 - val_loss: 0.7021 - val_accuracy: 0.8243\n",
            "Epoch 24/25\n",
            "30/30 [==============================] - 11s 378ms/step - loss: 0.1560 - accuracy: 0.9246 - val_loss: 0.7030 - val_accuracy: 0.7950\n",
            "Epoch 25/25\n",
            "30/30 [==============================] - 12s 390ms/step - loss: 0.1593 - accuracy: 0.9162 - val_loss: 0.7234 - val_accuracy: 0.8075\n"
          ]
        }
      ]
    },
    {
      "cell_type": "code",
      "source": [
        "# Evaluate the model on the test set\n",
        "test_loss, test_accuracy = best_model.evaluate(X_test, y_test)\n",
        "print(f'Test Accuracy: {test_accuracy*100:.2f}%')"
      ],
      "metadata": {
        "colab": {
          "base_uri": "https://localhost:8080/"
        },
        "id": "GZRJZNM1tbO2",
        "outputId": "e408bad4-d6ee-412e-e073-c07b17212a9e"
      },
      "execution_count": null,
      "outputs": [
        {
          "output_type": "stream",
          "name": "stdout",
          "text": [
            "5/5 [==============================] - 0s 31ms/step - loss: 0.6710 - accuracy: 0.7895\n",
            "Test Accuracy: 78.95%\n"
          ]
        }
      ]
    },
    {
      "cell_type": "markdown",
      "source": [
        "### Download Model ke Lokal"
      ],
      "metadata": {
        "id": "dOC6DycFTsnh"
      }
    },
    {
      "cell_type": "markdown",
      "source": [
        "Download Model h5 Non-Tuning"
      ],
      "metadata": {
        "id": "9nH7DDoUpVJB"
      }
    },
    {
      "cell_type": "code",
      "source": [
        "# Save Model Non-Tuning\n",
        "model.save('feeling_detection_model_notuning_2.h5')"
      ],
      "metadata": {
        "id": "Tc_97DbIoTCZ"
      },
      "execution_count": null,
      "outputs": []
    },
    {
      "cell_type": "code",
      "source": [
        "from google.colab import files\n",
        "\n",
        "# Unduh file langsung ke komputer lokal\n",
        "files.download('feeling_detection_model_notuning_2.h5')"
      ],
      "metadata": {
        "colab": {
          "base_uri": "https://localhost:8080/",
          "height": 17
        },
        "id": "ZdDyTJFFpOX2",
        "outputId": "16a2920c-f6af-4dd1-dbc6-c5f257c718b7"
      },
      "execution_count": null,
      "outputs": [
        {
          "output_type": "display_data",
          "data": {
            "text/plain": [
              "<IPython.core.display.Javascript object>"
            ],
            "application/javascript": [
              "\n",
              "    async function download(id, filename, size) {\n",
              "      if (!google.colab.kernel.accessAllowed) {\n",
              "        return;\n",
              "      }\n",
              "      const div = document.createElement('div');\n",
              "      const label = document.createElement('label');\n",
              "      label.textContent = `Downloading \"${filename}\": `;\n",
              "      div.appendChild(label);\n",
              "      const progress = document.createElement('progress');\n",
              "      progress.max = size;\n",
              "      div.appendChild(progress);\n",
              "      document.body.appendChild(div);\n",
              "\n",
              "      const buffers = [];\n",
              "      let downloaded = 0;\n",
              "\n",
              "      const channel = await google.colab.kernel.comms.open(id);\n",
              "      // Send a message to notify the kernel that we're ready.\n",
              "      channel.send({})\n",
              "\n",
              "      for await (const message of channel.messages) {\n",
              "        // Send a message to notify the kernel that we're ready.\n",
              "        channel.send({})\n",
              "        if (message.buffers) {\n",
              "          for (const buffer of message.buffers) {\n",
              "            buffers.push(buffer);\n",
              "            downloaded += buffer.byteLength;\n",
              "            progress.value = downloaded;\n",
              "          }\n",
              "        }\n",
              "      }\n",
              "      const blob = new Blob(buffers, {type: 'application/binary'});\n",
              "      const a = document.createElement('a');\n",
              "      a.href = window.URL.createObjectURL(blob);\n",
              "      a.download = filename;\n",
              "      div.appendChild(a);\n",
              "      a.click();\n",
              "      div.remove();\n",
              "    }\n",
              "  "
            ]
          },
          "metadata": {}
        },
        {
          "output_type": "display_data",
          "data": {
            "text/plain": [
              "<IPython.core.display.Javascript object>"
            ],
            "application/javascript": [
              "download(\"download_e7c31edf-e816-4b2e-a35b-c7f905c6f5ca\", \"feeling_detection_model_notuning_2.h5\", 1497568)"
            ]
          },
          "metadata": {}
        }
      ]
    },
    {
      "cell_type": "markdown",
      "source": [
        "Download Model h5 Tuning"
      ],
      "metadata": {
        "id": "_vqnxGDepgJa"
      }
    },
    {
      "cell_type": "code",
      "source": [
        "from google.colab import files\n",
        "\n",
        "# Unduh file langsung ke komputer lokal\n",
        "files.download('feeling_detection_model_2.h5')"
      ],
      "metadata": {
        "colab": {
          "base_uri": "https://localhost:8080/",
          "height": 17
        },
        "id": "z5m_bcsDpZK9",
        "outputId": "0812ff36-6e9d-4332-a5dd-1b8d569d6cdc"
      },
      "execution_count": null,
      "outputs": [
        {
          "output_type": "display_data",
          "data": {
            "text/plain": [
              "<IPython.core.display.Javascript object>"
            ],
            "application/javascript": [
              "\n",
              "    async function download(id, filename, size) {\n",
              "      if (!google.colab.kernel.accessAllowed) {\n",
              "        return;\n",
              "      }\n",
              "      const div = document.createElement('div');\n",
              "      const label = document.createElement('label');\n",
              "      label.textContent = `Downloading \"${filename}\": `;\n",
              "      div.appendChild(label);\n",
              "      const progress = document.createElement('progress');\n",
              "      progress.max = size;\n",
              "      div.appendChild(progress);\n",
              "      document.body.appendChild(div);\n",
              "\n",
              "      const buffers = [];\n",
              "      let downloaded = 0;\n",
              "\n",
              "      const channel = await google.colab.kernel.comms.open(id);\n",
              "      // Send a message to notify the kernel that we're ready.\n",
              "      channel.send({})\n",
              "\n",
              "      for await (const message of channel.messages) {\n",
              "        // Send a message to notify the kernel that we're ready.\n",
              "        channel.send({})\n",
              "        if (message.buffers) {\n",
              "          for (const buffer of message.buffers) {\n",
              "            buffers.push(buffer);\n",
              "            downloaded += buffer.byteLength;\n",
              "            progress.value = downloaded;\n",
              "          }\n",
              "        }\n",
              "      }\n",
              "      const blob = new Blob(buffers, {type: 'application/binary'});\n",
              "      const a = document.createElement('a');\n",
              "      a.href = window.URL.createObjectURL(blob);\n",
              "      a.download = filename;\n",
              "      div.appendChild(a);\n",
              "      a.click();\n",
              "      div.remove();\n",
              "    }\n",
              "  "
            ]
          },
          "metadata": {}
        },
        {
          "output_type": "display_data",
          "data": {
            "text/plain": [
              "<IPython.core.display.Javascript object>"
            ],
            "application/javascript": [
              "download(\"download_9ee17398-dd2b-4917-b1a3-313dcf96f33c\", \"feeling_detection_model_2.h5\", 3101728)"
            ]
          },
          "metadata": {}
        }
      ]
    },
    {
      "cell_type": "markdown",
      "source": [
        "## Save Model"
      ],
      "metadata": {
        "id": "-cpEbHYpQPpv"
      }
    },
    {
      "cell_type": "code",
      "source": [
        "# The best model is already saved after tuning\n",
        "# Save the tokenizer\n",
        "with open('tokenizer.json', 'w') as f:\n",
        "    json.dump(tokenizer.to_json(), f)"
      ],
      "metadata": {
        "id": "eLydlfRUQQzu"
      },
      "execution_count": null,
      "outputs": []
    },
    {
      "cell_type": "markdown",
      "source": [
        "## Deployment on Colab"
      ],
      "metadata": {
        "id": "wE9-ERm5QTAN"
      }
    },
    {
      "cell_type": "markdown",
      "source": [],
      "metadata": {
        "id": "0RdwDYRswWK2"
      }
    },
    {
      "cell_type": "code",
      "source": [
        "# Load the model\n",
        "model = tf.keras.models.load_model('feeling_detection_model_notuning_2.h5') #ini bisa diganti h5 tuning atau non-tuning\n",
        "\n",
        "def preprocess_text_for_prediction(text, tokenizer, maxlen):\n",
        "    text = preprocess_text(text)\n",
        "    sequence = tokenizer.texts_to_sequences([text])\n",
        "    padded_sequence = pad_sequences(sequence, maxlen=maxlen)\n",
        "    return padded_sequence\n",
        "\n",
        "import ipywidgets as widgets\n",
        "from IPython.display import display\n",
        "\n",
        "def get_user_input_and_predict(model, tokenizer, maxlen):\n",
        "    text_box = widgets.Textarea(\n",
        "        value='',\n",
        "        placeholder='Masukkan teks di sini...',\n",
        "        description='Input:',\n",
        "        disabled=False\n",
        "    )\n",
        "    submit_button = widgets.Button(description=\"Prediksi\")\n",
        "    output = widgets.Output()\n",
        "\n",
        "    def on_button_click(b):\n",
        "        with output:\n",
        "            output.clear_output()\n",
        "            input_text = text_box.value\n",
        "            preprocessed_text = preprocess_text_for_prediction(input_text, tokenizer, maxlen)\n",
        "            prediction = model.predict(preprocessed_text)\n",
        "            predicted_label = np.argmax(prediction, axis=1)[0]\n",
        "            emotion_labels = [\"Bahagia\", \"Sedih\", \"Marah\"]\n",
        "            result = emotion_labels[predicted_label]\n",
        "            print(f'Teks: \"{input_text}\"')\n",
        "            print(f'Prediksi: {result}')\n",
        "\n",
        "    submit_button.on_click(on_button_click)\n",
        "\n",
        "    display(text_box, submit_button, output)\n",
        "\n",
        "get_user_input_and_predict(model, tokenizer, maxlen)"
      ],
      "metadata": {
        "id": "BTEr1AsgQUab",
        "colab": {
          "base_uri": "https://localhost:8080/",
          "height": 163,
          "referenced_widgets": [
            "31dbd76a5c1642ca81bddfae1d353aac",
            "ae7f409dd972495fae4460ccc1a8f756",
            "00f567694c8b4dfba1fd7ebe12740392",
            "01a94cf3b25e434d9f0b0fb1593e32c1",
            "fffa4600ce2940cfae7d47ed014c9da0",
            "4d75021ca0f64c1ea9cf6a2872150fca",
            "f2b40b2dee514bd18857036f2a39b5bd",
            "099fcd0db779454c87c560b939abe8af"
          ]
        },
        "outputId": "43216d08-19c8-4f5b-ec35-3c193e3965ed"
      },
      "execution_count": null,
      "outputs": [
        {
          "output_type": "display_data",
          "data": {
            "text/plain": [
              "Textarea(value='', description='Input:', placeholder='Masukkan teks di sini...')"
            ],
            "application/vnd.jupyter.widget-view+json": {
              "version_major": 2,
              "version_minor": 0,
              "model_id": "31dbd76a5c1642ca81bddfae1d353aac"
            }
          },
          "metadata": {}
        },
        {
          "output_type": "display_data",
          "data": {
            "text/plain": [
              "Button(description='Prediksi', style=ButtonStyle())"
            ],
            "application/vnd.jupyter.widget-view+json": {
              "version_major": 2,
              "version_minor": 0,
              "model_id": "01a94cf3b25e434d9f0b0fb1593e32c1"
            }
          },
          "metadata": {}
        },
        {
          "output_type": "display_data",
          "data": {
            "text/plain": [
              "Output()"
            ],
            "application/vnd.jupyter.widget-view+json": {
              "version_major": 2,
              "version_minor": 0,
              "model_id": "f2b40b2dee514bd18857036f2a39b5bd"
            }
          },
          "metadata": {}
        }
      ]
    }
  ]
}